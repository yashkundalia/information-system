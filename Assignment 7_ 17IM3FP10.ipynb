{
 "cells": [
  {
   "cell_type": "markdown",
   "metadata": {},
   "source": [
    "## Assignment 7_ 17IM3FP10"
   ]
  },
  {
   "cell_type": "markdown",
   "metadata": {},
   "source": [
    "### 1. For a given n by n square matrix write a program for summing the principal and non- principal diagonal elements."
   ]
  },
  {
   "cell_type": "code",
   "execution_count": null,
   "metadata": {},
   "outputs": [],
   "source": [
    "import numpy as np\n",
    "n=int(input(\"Enter\"))\n",
    "a=np.random.randint(50,100,size=(n,n))\n",
    "a\n"
   ]
  },
  {
   "cell_type": "code",
   "execution_count": null,
   "metadata": {},
   "outputs": [],
   "source": [
    "np.trace(a) # main diagonal elements"
   ]
  },
  {
   "cell_type": "code",
   "execution_count": null,
   "metadata": {},
   "outputs": [],
   "source": [
    "s= sum(a[i][n-i-1]for i in range(n))\n",
    "s\n",
    "    "
   ]
  },
  {
   "cell_type": "markdown",
   "metadata": {},
   "source": [
    "### 2. Create a list of 10 students and 6 subjects, and generate random marks between 0 and 100 for each student for all subjects. Create a menu driven program to find out and display:\n",
    "### i) Students with highest and lowest total marks\n",
    "### ii) Subjects with the highest and lowest average score\n",
    "### iii) Students with the highest score in each subject\n"
   ]
  },
  {
   "cell_type": "code",
   "execution_count": 4,
   "metadata": {},
   "outputs": [],
   "source": [
    "import numpy as np"
   ]
  },
  {
   "cell_type": "code",
   "execution_count": null,
   "metadata": {},
   "outputs": [],
   "source": [
    "mks=np.random.randint(50,100,size=(10,6))\n",
    "li=[]\n",
    "avg=[]\n",
    "print(mks)\n",
    "name=[\"Sagun\",\"Amitanshu\",\"Debayan\",\"Mihir\",\"Sourabh\",\"Abhishek\",\"Noni\",\"Keerthana\",\"Shivam\",\"Ayush\"]\n",
    "for i in range(0,10):\n",
    "    li.append(sum(mks[i]))\n",
    "for i in range(0,10):\n",
    "    avg.append(li[i]/6)\n",
    "avg"
   ]
  },
  {
   "cell_type": "code",
   "execution_count": null,
   "metadata": {},
   "outputs": [],
   "source": [
    "j=li.index(max(li))\n",
    "k=li.index(min(li))\n",
    "j_a=avg.index(max(avg))\n",
    "k_a=avg.index(min(avg))\n",
    "print(\"The student with the highest total score is\",name[j],\"with\",li[j],\"marks\")\n",
    "print(\"The student with the lowest total score is\",name[k],\"with\",li[k],\"marks\")\n"
   ]
  },
  {
   "cell_type": "code",
   "execution_count": null,
   "metadata": {},
   "outputs": [],
   "source": [
    "print(\"The student with the highest average score is\",name[j_a],\"with\",avg[j_a],\"marks\")\n",
    "print(\"The student with the lowest average score is\",name[k_a],\"with\",avg[k_a],\"marks\")"
   ]
  },
  {
   "cell_type": "code",
   "execution_count": null,
   "metadata": {},
   "outputs": [],
   "source": [
    "sub=[\"Maths\",\"Physics\",\"Chemistry\",\"Biology\",\"English\",\"Computer\"]\n",
    "com=[]\n",
    "for j in range(0,6):\n",
    "    for k in range(0,10):\n",
    "        com.append(mks[k,j])\n",
    "    l=com.index(max(com))\n",
    "    print(\"The student with the highest score in subject\",sub[j],\"is\",name[l],\"with\",com[l],\"marks\")\n",
    "    com=[]\n",
    "    "
   ]
  },
  {
   "cell_type": "markdown",
   "metadata": {},
   "source": [
    "### 3. A=np.array([[17, 24, 1, 8, 15], [23, 5, 7, 14, 16], [ 4, 6, 13, 20, 22], [10, 12, 19, 21, 3], [11, 18, 25, 2, 9]]). Verify whether array A is a magic square."
   ]
  },
  {
   "cell_type": "code",
   "execution_count": 19,
   "metadata": {},
   "outputs": [],
   "source": [
    "A=np.array([[17, 24, 1, 8, 15], [23, 5, 7, 14, 16], [ 4, 6, 13, 20, 22], [10, 12, 19, 21, 3], [11, 18, 25, 2, 9]])"
   ]
  },
  {
   "cell_type": "code",
   "execution_count": null,
   "metadata": {},
   "outputs": [],
   "source": [
    "def ismagicsq(A):\n",
    "    s=np.trace(A)\n",
    "    for i in range(0,5):\n",
    "        r_sum=0\n",
    "        for j in range(0,5):\n",
    "            r_sum += A[i][j]\n",
    "        if(r_sum != s):\n",
    "            return False\n",
    "    for i in range(0,5):\n",
    "        c_sum=0\n",
    "        for j in range(0,5):\n",
    "            c_sum += A[j][i]\n",
    "        if(c_sum != s):\n",
    "            return False\n",
    "    sum=0       \n",
    "    for i in range(0,5):\n",
    "        for j in range(0,5):\n",
    "            if i+j==(n-1):\n",
    "                sum += A[i][j]\n",
    "    if(sum != s):\n",
    "        return False\n",
    "    return True\n",
    "\n",
    "if(ismagicsq(A)):\n",
    "    print(\"magic sq\")\n",
    "else:\n",
    "    print(\"not magic sq\")\n",
    "\n",
    "    "
   ]
  },
  {
   "cell_type": "markdown",
   "metadata": {},
   "source": [
    "### 4. Create an n dimensional array with random elements from 0 to 10. Count how many even indices have odd elements and how many odd indices have even elements."
   ]
  },
  {
   "cell_type": "code",
   "execution_count": null,
   "metadata": {},
   "outputs": [],
   "source": [
    "import numpy as np\n",
    "n=int(input(\"Enter the no. of elements: \"))\n",
    "rnd=np.random.randint(0,10,size=(n))"
   ]
  },
  {
   "cell_type": "code",
   "execution_count": null,
   "metadata": {},
   "outputs": [],
   "source": [
    "print(rnd)"
   ]
  },
  {
   "cell_type": "code",
   "execution_count": null,
   "metadata": {},
   "outputs": [],
   "source": [
    "ctr1=0\n",
    "ctr2=0\n",
    "for i in range(0,n):\n",
    "    if  i%2==0:\n",
    "        if rnd[i]%2==1:\n",
    "            ctr1+=1\n",
    "    if  i%2==1: \n",
    "        if rnd[i]%2==0:\n",
    "            ctr2+=1\n",
    "print(ctr1)\n",
    "print(ctr2)"
   ]
  },
  {
   "cell_type": "markdown",
   "metadata": {},
   "source": [
    "### 5. Generate 100 random integers from 0 to 10 and make a bar chart for numbers versus its frequency. Also draw a pie chart for this."
   ]
  },
  {
   "cell_type": "code",
   "execution_count": 12,
   "metadata": {},
   "outputs": [],
   "source": [
    "pl=np.random.randint(0,10,size=(100))"
   ]
  },
  {
   "cell_type": "code",
   "execution_count": null,
   "metadata": {},
   "outputs": [],
   "source": [
    "pl"
   ]
  },
  {
   "cell_type": "code",
   "execution_count": 13,
   "metadata": {},
   "outputs": [],
   "source": [
    "from matplotlib import pyplot as plt \n"
   ]
  },
  {
   "cell_type": "code",
   "execution_count": null,
   "metadata": {},
   "outputs": [],
   "source": []
  }
 ],
 "metadata": {
  "kernelspec": {
   "display_name": "Python 3",
   "language": "python",
   "name": "python3"
  },
  "language_info": {
   "codemirror_mode": {
    "name": "ipython",
    "version": 3
   },
   "file_extension": ".py",
   "mimetype": "text/x-python",
   "name": "python",
   "nbconvert_exporter": "python",
   "pygments_lexer": "ipython3",
   "version": "3.6.5"
  }
 },
 "nbformat": 4,
 "nbformat_minor": 2
}
