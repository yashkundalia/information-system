{
 "cells": [
  {
   "cell_type": "markdown",
   "metadata": {},
   "source": [
    "##TO check number is prime or not"
   ]
  },
  {
   "cell_type": "code",
   "execution_count": 2,
   "metadata": {},
   "outputs": [
    {
     "name": "stdout",
     "output_type": "stream",
     "text": [
      "enter a number45\n",
      "45 not prime number\n"
     ]
    }
   ],
   "source": [
    "num=int(input(\"enter a number\"))\n",
    "count=1\n",
    "for i in range(2,num):\n",
    "    if(num%i==0):\n",
    "        count=count+1\n",
    "if(count==1):\n",
    "    print(\"prime number\",num)\n",
    "else:\n",
    "    print(num,\"not prime number\")\n"
   ]
  },
  {
   "cell_type": "markdown",
   "metadata": {},
   "source": [
    "##TO give grade to 30 students"
   ]
  },
  {
   "cell_type": "code",
   "execution_count": 4,
   "metadata": {},
   "outputs": [
    {
     "name": "stdout",
     "output_type": "stream",
     "text": [
      "43 -->D\n",
      "23 -->F\n",
      "67 -->B\n",
      "54 -->C\n",
      "89 -->Ex\n",
      "3 -->F\n",
      "45 -->D\n",
      "78 -->A\n",
      "90 -->Ex\n",
      "89 -->Ex\n",
      "76 -->A\n",
      "3 -->F\n",
      "2 -->F\n",
      "77 -->A\n",
      "88 -->Ex\n",
      "44 -->D\n",
      "55 -->C\n",
      "99 -->Top\n",
      "76 -->A\n",
      "12 -->F\n",
      "90 -->Ex\n",
      "96 -->Top\n",
      "43 -->D\n",
      "23 -->F\n",
      "57 -->C\n",
      "89 -->Ex\n",
      "59 -->C\n",
      "29 -->F\n",
      "69 -->B\n",
      "10 -->F\n"
     ]
    }
   ],
   "source": [
    "marks=[43,23,67,54,89,3,45,78,90,89,76,3,2,77,88,44,55,99,76,12,90,96,43,23,57,89,59,29,69,10]\n",
    "for i in range(0,30):\n",
    "    if(marks[i]<=40):\n",
    "        print(marks[i],\"-->F\")\n",
    "    elif(marks[i]>40 and marks[i]<=50):\n",
    "        print(marks[i],\"-->D\")\n",
    "    elif(marks[i]>50 and marks[i]<=60):\n",
    "        print(marks[i],\"-->C\")\n",
    "    elif(marks[i]>60 and marks[i]<=70):\n",
    "        print(marks[i],\"-->B\")\n",
    "    elif(marks[i]>70 and marks[i]<=80):\n",
    "        print(marks[i],\"-->A\")\n",
    "    elif(marks[i]>80 and marks[i]<=90):\n",
    "        print(marks[i],\"-->Ex\")\n",
    "    else:\n",
    "        print(marks[i],\"-->Top\")"
   ]
  },
  {
   "cell_type": "markdown",
   "metadata": {},
   "source": [
    "##To check whether the year is leap year or not"
   ]
  },
  {
   "cell_type": "code",
   "execution_count": 3,
   "metadata": {},
   "outputs": [
    {
     "name": "stdout",
     "output_type": "stream",
     "text": [
      "enter the year\n",
      "3450\n",
      "this is not a leap year\n"
     ]
    }
   ],
   "source": [
    "print(\"enter the year\")\n",
    "year=int(input())\n",
    "if year%400==0:\n",
    "    print(\"this is leap year\")\n",
    "elif year%4==0 and year%400!=0:\n",
    "    print(\"this is leap year\")\n",
    "else:\n",
    "    print(\"this is not a leap year\")"
   ]
  },
  {
   "cell_type": "markdown",
   "metadata": {},
   "source": [
    "##TO find the multiplication table"
   ]
  },
  {
   "cell_type": "code",
   "execution_count": 9,
   "metadata": {},
   "outputs": [
    {
     "name": "stdout",
     "output_type": "stream",
     "text": [
      "enter the number:12\n",
      "12 * 1 = 12\n",
      "12 * 2 = 24\n",
      "12 * 3 = 36\n",
      "12 * 4 = 48\n",
      "12 * 5 = 60\n",
      "12 * 6 = 72\n",
      "12 * 7 = 84\n",
      "12 * 8 = 96\n",
      "12 * 9 = 108\n",
      "12 * 10 = 120\n"
     ]
    }
   ],
   "source": [
    "def table(x):\n",
    "    for i in range(1,11):\n",
    "        print(x,\"*\",i ,\"=\", x*i)\n",
    "num=int(input(\"enter the number:\"))\n",
    "table(num)\n",
    "    "
   ]
  },
  {
   "cell_type": "markdown",
   "metadata": {},
   "source": [
    "##TO find factorial in recursive way"
   ]
  },
  {
   "cell_type": "code",
   "execution_count": 10,
   "metadata": {},
   "outputs": [
    {
     "name": "stdout",
     "output_type": "stream",
     "text": [
      "enter the number:5\n",
      "120\n"
     ]
    }
   ],
   "source": [
    "def fac(x):\n",
    "    if x==1: return 1\n",
    "    else:\n",
    "        return x*fac(x-1)\n",
    "num=int((input(\"enter the number:\")))\n",
    "factorial=fac(num)\n",
    "print(factorial)"
   ]
  },
  {
   "cell_type": "markdown",
   "metadata": {},
   "source": [
    "##Write a program of simple calculator"
   ]
  },
  {
   "cell_type": "code",
   "execution_count": 12,
   "metadata": {},
   "outputs": [
    {
     "name": "stdout",
     "output_type": "stream",
     "text": [
      "num1:8\n",
      "num2:6\n",
      "enter operator:/\n",
      "your result is 1.3333333333333333\n"
     ]
    }
   ],
   "source": [
    "num1=int(input(\"num1:\"))\n",
    "num2=int(input(\"num2:\"))\n",
    "op=input(\"enter operator:\")\n",
    "if op=='+':\n",
    "    print(\"your result is\",num1+num2)\n",
    "elif op=='-':\n",
    "    print(\"your result is\",num1-num2)\n",
    "elif op=='*':\n",
    "    print(\"your result is\",num1*num2)\n",
    "elif op=='/':\n",
    "    print(\"your result is\",float(num1/num2))\n",
    "else:\n",
    "    print(\"unknown operator\")"
   ]
  },
  {
   "cell_type": "markdown",
   "metadata": {},
   "source": [
    "#TO find vowels in sentence"
   ]
  },
  {
   "cell_type": "code",
   "execution_count": 13,
   "metadata": {},
   "outputs": [
    {
     "name": "stdout",
     "output_type": "stream",
     "text": [
      "enter the sentence:jgjgg uthgug juugnvrw kunkjhi \n",
      "Counter({'u': 5, 'i': 1})\n"
     ]
    }
   ],
   "source": [
    "from collections import Counter\n",
    "import re\n",
    "str=input(\"enter the sentence:\")\n",
    "count=Counter(re.findall(r'[a,e,i,o,u]',str))\n",
    "print(count)"
   ]
  },
  {
   "cell_type": "markdown",
   "metadata": {},
   "source": [
    "#write a code to add two matrices"
   ]
  },
  {
   "cell_type": "code",
   "execution_count": 16,
   "metadata": {},
   "outputs": [
    {
     "name": "stdout",
     "output_type": "stream",
     "text": [
      "5\n",
      "6\n",
      "4\n",
      "5\n",
      "7\n",
      "6\n",
      "5\n",
      "4\n",
      "3\n",
      "2\n",
      "6\n",
      "7\n",
      "8\n",
      "9\n",
      "0\n",
      "4\n",
      "3\n",
      "2\n",
      "7 12 11\n",
      "13 16 6\n",
      "9 7 5\n"
     ]
    }
   ],
   "source": [
    "def add_matrix(a,b):\n",
    "    c=[[0,0,0],[0,0,0],[0,0,0]]\n",
    "    for i in range (0,3):\n",
    "        for j in range (0,3):\n",
    "            c[i][j]=a[i][j]+b[i][j]\n",
    "    return c\n",
    "            \n",
    "a=[[int(input()),int(input()),int(input())],[int(input()),int(input()),int(input())],[int(input()),int(input()),int(input())]]\n",
    "b=[[int(input()),int(input()),int(input())],[int(input()),int(input()),int(input())],[int(input()),int(input()),int(input())]]\n",
    "c=add_matrix(a,b)\n",
    "for i in range(0,3):\n",
    "    print(c[i][0],   c[i][1],   c[i][2])\n",
    "    "
   ]
  },
  {
   "cell_type": "code",
   "execution_count": null,
   "metadata": {},
   "outputs": [],
   "source": []
  },
  {
   "cell_type": "code",
   "execution_count": null,
   "metadata": {},
   "outputs": [],
   "source": []
  }
 ],
 "metadata": {
  "kernelspec": {
   "display_name": "Python 3",
   "language": "python",
   "name": "python3"
  },
  "language_info": {
   "codemirror_mode": {
    "name": "ipython",
    "version": 3
   },
   "file_extension": ".py",
   "mimetype": "text/x-python",
   "name": "python",
   "nbconvert_exporter": "python",
   "pygments_lexer": "ipython3",
   "version": "3.6.5"
  }
 },
 "nbformat": 4,
 "nbformat_minor": 2
}
