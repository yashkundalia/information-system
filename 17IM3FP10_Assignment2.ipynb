{
 "cells": [
  {
   "cell_type": "markdown",
   "metadata": {},
   "source": [
    "##Q1-Create one list of 5 elements, add two elements at front and two elements at rear."
   ]
  },
  {
   "cell_type": "code",
   "execution_count": 103,
   "metadata": {},
   "outputs": [
    {
     "name": "stdout",
     "output_type": "stream",
     "text": [
      "[11, 22, 1, 2, 3, 5, 5, 77, 88]\n"
     ]
    }
   ],
   "source": [
    "list=[1,2,3,5,5]\n",
    "list.insert(0,11)\n",
    "list.insert(1,22)\n",
    "list.append(77)\n",
    "list.append(88)\n",
    "print(list)"
   ]
  },
  {
   "cell_type": "markdown",
   "metadata": {},
   "source": [
    "##Q2-(a) Create one list of lists (nested list) with following entries.\n",
    "   list 1. ME, ISE, CSE, MATH\n",
    "   list 2. Ram, Shyam, Sruti, Pankaj, Anuja, Anjali\n",
    "   list 3. 17, 18, 18, 17, 19, 18\n",
    "   (b) Print Sruti by accesing through index\n",
    "   (c) find maximum from list 3 of the nested list"
   ]
  },
  {
   "cell_type": "code",
   "execution_count": 63,
   "metadata": {},
   "outputs": [
    {
     "name": "stdout",
     "output_type": "stream",
     "text": [
      "[['me', 'ise', 'cse', 'math'], ['ram', 'shyam', 'shruti', 'pankaj', 'anuja', 'anjali'], [17, 18, 18, 19, 18]]\n"
     ]
    }
   ],
   "source": [
    "list=[[\"me\",\"ise\",\"cse\",\"math\"],[\"ram\",\"shyam\",\"shruti\",\"pankaj\",\"anuja\",\"anjali\"],[17,18,18,19,18]]\n",
    "print(list)"
   ]
  },
  {
   "cell_type": "code",
   "execution_count": 70,
   "metadata": {},
   "outputs": [
    {
     "name": "stdout",
     "output_type": "stream",
     "text": [
      "shruti\n"
     ]
    }
   ],
   "source": [
    "print(list[1][2])"
   ]
  },
  {
   "cell_type": "code",
   "execution_count": 74,
   "metadata": {},
   "outputs": [
    {
     "name": "stdout",
     "output_type": "stream",
     "text": [
      "19\n"
     ]
    }
   ],
   "source": [
    "print(max(list[2]))"
   ]
  },
  {
   "cell_type": "markdown",
   "metadata": {},
   "source": [
    "##Q3- (a) Take the above paragraph in a string variable. \n",
    " (b) Print the frequency of each word.\n",
    " (c) Find the words whose frequency is greater than 10.\n",
    " (d) Find 5 most frequent word from this text.\n",
    " Do this using Counter."
   ]
  },
  {
   "cell_type": "code",
   "execution_count": 96,
   "metadata": {},
   "outputs": [
    {
     "name": "stdout",
     "output_type": "stream",
     "text": [
      "Counter({'the': 33, 'of': 27, 'and': 26, 'a': 17, 'to': 15, 'IIT': 10, 'for': 9, 'is': 9, 'Kharagpur': 8, 'in': 8, 'was': 6, 'you': 6, 'The': 6, 'our': 5, 'by': 5, 'has': 5, 's': 5, 'It': 4, 'Institute': 4, 'I': 4, 'world': 4, 'that': 4, 'this': 4, 'with': 4, 'This': 3, 'first': 3, 'engineering': 3, 'education': 3, 'academic': 3, 'students': 3, 'are': 3, 'today': 3, 'will': 3, 'community': 3, 'from': 3, 'alumni': 3, 'school': 3, 'convocation': 2, 'Technology': 2, 'country': 2, 'technical': 2, 'after': 2, 'Independence': 2, 'A': 2, 'institution': 2, 'day': 2, 'years': 2, 'graduating': 2, 'must': 2, 'also': 2, 'efforts': 2, 'their': 2, 'family': 2, 'members': 2, 'all': 2, 'step': 2, 'technology': 2, 'your': 2, 'human': 2, 'committee': 2, 'up': 2, 'Dr': 2, 'Hill': 2, 'an': 2, 'global': 2, 'India': 2, 'it': 2, 'Science': 2, 'Centre': 2, 'gives': 1, 'me': 1, 'great': 1, 'pleasure': 1, 'be': 1, 'here': 1, '64th': 1, 'annual': 1, 'Indian': 1, 'pioneering': 1, 'institute': 1, 'IITs': 1, 'sense': 1, 'marked': 1, 'beginning': 1, 'ceremony': 1, 'landmark': 1, 'any': 1, 'reward': 1, 'hard': 1, 'work': 1, 'approximately': 1, '2': 1, '500': 1, 'who': 1, 'mention': 1, 'sacrifices': 1, 'professors': 1, 'teachers': 1, 'congratulate': 1, 'wish': 1, 'very': 1, 'best': 1, 'as': 1, 'into': 1, 'defined': 1, 'driven': 1, 'developed': 1, 'have': 1, 'no': 1, 'doubt': 1, 'contribute': 1, 'making': 1, 'better': 1, 'place': 1, 'both': 1, 'professionally': 1, 'personally': 1, 'empathy': 1, 'fellow': 1, 'beings': 1, 'its': 1, 'origins': 1, 'set': 1, 'government': 1, 'shortly': 1, 'take': 1, 'stock': 1, 'headed': 1, 'British': 1, 'Nobel': 1, 'laureate': 1, 'V': 1, 'recommended': 1, 'setting': 1, 'modelled': 1, 'on': 1, 'pattern': 1, 'MIT': 1, 'United': 1, 'States': 1, 'result': 1, 'we': 1, 'use': 1, 'experts': 1, 'conceive': 1, 'appropriate': 1, 'Over': 1, 'fact': 1, 'network': 1, 'become': 1, 'important': 1, 'window': 1, 'keeping': 1, 'civilisation': 1, 'character': 1, 'Exchange': 1, 'ideas': 1, 'expertise': 1, 'knowledge': 1, 'across': 1, 'fields': 1, 'economics': 1, 'medicine': 1, 'management': 1, 'contributed': 1, 'policy': 1, 'choices': 1, 'people': 1, 'development': 1, 'We': 1, 'continue': 1, 'celebrate': 1, 'prized': 1, 'resource': 1, 'As': 1, 'soon': 1, 'realise': 1, 'brand': 1, 'name': 1, 'reputation': 1, 'built': 1, 'achievements': 1, 'generations': 1, 'illustrious': 1, 'accompany': 1, 'wherever': 1, 'go': 1, 'You': 1, 'now': 1, 'part': 1, 'transcontinental': 1, 'talent': 1, 'pool': 1, 'added': 1, 'value': 1, 'wealth': 1, 'creation': 1, 'above': 1, 'lives': 1, 'Your': 1, 'took': 1, 'major': 1, 'towards': 1, 'strengthening': 1, 'linkages': 1, 'when': 1, 'started': 1, 'International': 1, 'Summer': 1, 'Winter': 1, 'Term': 1, 'Programme': 1, 'Later': 1, 'Ministry': 1, 'Human': 1, 'Resource': 1, 'Development': 1, 'expanded': 1, 'form': 1, 'Global': 1, 'Initiative': 1, 'Academic': 1, 'Networks': 1, 'or': 1, 'GIAN': 1, 'largest': 1, 'member': 1, 'maximum': 1, 'number': 1, 'units': 1, 'faculty': 1, 'diversify': 1, 'enlarge': 1, 'ambit': 1, 'system': 1, 'just': 1, 'pure': 1, 'sciences': 1, 'establish': 1, 'business': 1, 'law': 1, 'medical': 1, 'campus': 1, 'boasts': 1, 'Entrepreneurship': 1, 'Park': 1, 'Petroleum': 1, 'Engineering': 1, 'even': 1, 'Happiness': 1, 'One': 1, 'would': 1, 'like': 1, 'visit': 1, 'Many': 1, 'these': 1, 'schools': 1, 'centres': 1, 'were': 1, 'established': 1, 'due': 1, 'endowments': 1, 'affection': 1, 'continued': 1, 'association': 1, 'role': 1, 'model': 1, 'other': 1, 'educational': 1, 'institutions': 1})\n",
      "[('the', 33), ('of', 27), ('and', 26), ('a', 17), ('to', 15)]\n"
     ]
    }
   ],
   "source": [
    "from collections import Counter\n",
    "import re\n",
    "\n",
    "str=\"It gives me great pleasure to be here for the 64th annual convocation of the Indian Institute of Technology, Kharagpur. This is a pioneering institute. It was the first of the IITs in our country and in a sense marked the beginning of technical and engineering education after Independence. A convocation ceremony is a landmark for any academic institution. This is a day of reward for years of hard work by the approximately 2,500 students who are graduating today. I must also mention the efforts and sacrifices of their professors and teachers, and their family members. I congratulate all of you and wish you the very best as you step into a world that is defined, driven and developed by technology. I have no doubt that you will contribute to making this world a better place, both professionally and personally, with your education and with your empathy for fellow human beings. IIT Kharagpur has its origins in a committee that was set up by the government shortly after Independence to take stock of technical education. The committee was headed by the British Nobel laureate Dr A.V. Hill. Dr Hill recommended the setting up of an institution modelled on the pattern of MIT in the United States. The result is the Institute we are in today. The use of global experts to conceive this Institute was appropriate. Over the years, IIT Kharagpur and in fact the IIT network and community has become an important window to the world. This is in keeping with our country’s and our civilisation’s character. Exchange of ideas, of expertise, of knowledge – across fields, from engineering to economics, from medicine to management – has contributed to our policy choices and our people’s development. We must continue to celebrate this. The IIT Kharagpur community is a prized resource for India and for the world. As graduating students will soon realise, the IIT Kharagpur brand name and the reputation built by the achievements of generations of illustrious alumni will accompany you wherever you go. You are now part of a transcontinental talent pool that has added value to technology and wealth creation and, above all, to human lives. Your Institute took a major step towards strengthening India’s global academic linkages when it started the International Summer Winter Term Programme. Later the Ministry of Human Resource Development expanded this in the form of the Global Initiative of Academic Networks or GIAN. IIT Kharagpur is the largest member of the IIT family. It has the maximum number of academic units, students and faculty members. It was also the first to diversify and enlarge the ambit of the IIT system from just pure sciences and engineering. IIT Kharagpur was the first to establish a business school, a law school and a medical school. The campus today boasts a Science and Technology Entrepreneurship Park, a Petroleum Engineering Centre, and even a Centre for the Science of Happiness. One day I would like to visit it. Many of these schools and centres were established due to endowments and efforts of alumni. The alumni community’s affection for and continued association with IIT Kharagpur is a role model for other educational institutions.\"\n",
    "\n",
    "count = Counter(re.findall(r'\\w+',str))\n",
    "print(count)\n",
    "print(count.most_common(5))\n",
    "\n",
    "    \n",
    "\n",
    "\n",
    "\n",
    "\n",
    "\n"
   ]
  },
  {
   "cell_type": "markdown",
   "metadata": {},
   "source": [
    "##Q4- (a) Create an default list type dictionary which has ordering property maintained.\n",
    "       It should have three keys, \"a\", \"b\" and \"c\". \n",
    "       Each key has diffrent list entries in values.\n",
    "   (b) Remove last item from the dictionary and print the remaining."
   ]
  },
  {
   "cell_type": "code",
   "execution_count": 101,
   "metadata": {},
   "outputs": [
    {
     "name": "stdout",
     "output_type": "stream",
     "text": [
      "   a  b   c\n",
      "0  1  5   9\n",
      "1  2  6  10\n",
      "2  3  7  11\n",
      "3  4  8  12\n",
      "   a  b\n",
      "0  1  5\n",
      "1  2  6\n",
      "2  3  7\n",
      "3  4  8\n"
     ]
    }
   ],
   "source": [
    "import pandas as pd\n",
    "dict={\"a\":[1,2,3,4],\"b\":[5,6,7,8],\"c\":[9,10,11,12]}\n",
    "df=pd.DataFrame(dict)\n",
    "print(df)\n",
    "del df['c']\n",
    "print(df)"
   ]
  },
  {
   "cell_type": "markdown",
   "metadata": {},
   "source": [
    "##Q5-Create one dataframe with the dictionary\n",
    "  d = {'col1': [1, 2,3,5,6,7,8], 'col2': [3.0, 4.0, 12.5,4,56,7, 5]}\n",
    "  Print all the entries by accessing each cell in the dataframe."
   ]
  },
  {
   "cell_type": "code",
   "execution_count": 102,
   "metadata": {},
   "outputs": [
    {
     "name": "stdout",
     "output_type": "stream",
     "text": [
      "   col1  col2\n",
      "0     1   3.0\n",
      "1     2   4.0\n",
      "2     3  12.5\n",
      "3     5   4.0\n",
      "4     6  56.0\n",
      "5     7   7.0\n",
      "6     8   5.0\n"
     ]
    }
   ],
   "source": [
    "import pandas as pd\n",
    "d = {'col1': [1, 2,3,5,6,7,8], 'col2': [3.0, 4.0, 12.5,4,56,7, 5]}\n",
    "df=pd.DataFrame(d)\n",
    "print(df)"
   ]
  },
  {
   "cell_type": "code",
   "execution_count": null,
   "metadata": {},
   "outputs": [],
   "source": []
  }
 ],
 "metadata": {
  "kernelspec": {
   "display_name": "Python 3",
   "language": "python",
   "name": "python3"
  }
 },
 "nbformat": 4,
 "nbformat_minor": 2
}
